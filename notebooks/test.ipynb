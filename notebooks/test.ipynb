{
 "cells": [
  {
   "cell_type": "code",
   "execution_count": 1,
   "metadata": {},
   "outputs": [],
   "source": [
    "import sys\n",
    "import torch\n",
    "\n",
    "\n",
    "sys.path.append(\"..\")\n",
    "\n",
    "from data import get_task, get_dataloader\n",
    "from helpers import ROOT_DIR\n",
    "from models.gpt2 import GPT2Editor\n",
    "\n",
    "%env CUDA_VISIBLE_DEVICES=2\n",
    "%load_ext autoreload\n",
    "%autoreload 2"
   ]
  },
  {
   "cell_type": "code",
   "execution_count": null,
   "metadata": {},
   "outputs": [
    {
     "name": "stderr",
     "output_type": "stream",
     "text": [
      "DEBUG:data:Loading cached huggingface dataset from /home/sidnbaskaran/hypernetwork-editor/assets/data/cache/load_wikipedia_13ca3ba53028273144bd57b521cf2037 (rank=0)\n"
     ]
    },
    {
     "data": {
      "application/vnd.jupyter.widget-view+json": {
       "model_id": "e7bd09328aa14514b1bb731ff82f767c",
       "version_major": 2,
       "version_minor": 0
      },
      "text/plain": [
       "Loading dataset from disk:   0%|          | 0/25 [00:00<?, ?it/s]"
      ]
     },
     "metadata": {},
     "output_type": "display_data"
    }
   ],
   "source": [
    "from omegaconf import DictConfig\n",
    "\n",
    "cfg = DictConfig(\n",
    "    {\n",
    "        \"model\": {\"name_or_path\": \"gpt2\", \"max_length\": 512},\n",
    "        \"task\": {\n",
    "            \"name\": \"wikipedia\",\n",
    "            \"followup_char_limit\": 500,\n",
    "            \"editor_token_limit\": 50,\n",
    "        },\n",
    "        \"data\": {\n",
    "            \"test_split\": 0.1,\n",
    "            \"val_split\": 0.1,\n",
    "            \"n_examples\": 1000,\n",
    "            \"train_batch_size\": 2,\n",
    "            \"val_batch_size\": 2,\n",
    "        },\n",
    "        \"seed\": 42,\n",
    "    }\n",
    ")\n",
    "\n",
    "ds = get_task(cfg, \"wikipedia\", \"train\")\n",
    "\n",
    "dl = get_dataloader(ds, cfg, \"train\")"
   ]
  },
  {
   "cell_type": "code",
   "execution_count": null,
   "metadata": {},
   "outputs": [],
   "source": [
    "from models.gpt2 import GPT2EditorConfig\n",
    "\n",
    "editor_model = GPT2Editor(GPT2EditorConfig())"
   ]
  },
  {
   "cell_type": "code",
   "execution_count": null,
   "metadata": {},
   "outputs": [],
   "source": [
    "editor_model = editor_model.cuda()"
   ]
  },
  {
   "cell_type": "code",
   "execution_count": null,
   "metadata": {},
   "outputs": [
    {
     "ename": "TypeError",
     "evalue": "reshape(): argument 'shape' failed to unpack the object at pos 2 with error \"type must be tuple of ints,but got NoneType\"",
     "output_type": "error",
     "traceback": [
      "\u001b[0;31m---------------------------------------------------------------------------\u001b[0m",
      "\u001b[0;31mTypeError\u001b[0m                                 Traceback (most recent call last)",
      "\u001b[1;32m/home/sidnbaskaran/hypernetwork-editor/notebooks/test.ipynb Cell 5\u001b[0m line \u001b[0;36m4\n\u001b[1;32m      <a href='vscode-notebook-cell://ssh-remote%2Ba100-4x/home/sidnbaskaran/hypernetwork-editor/notebooks/test.ipynb#X15sdnNjb2RlLXJlbW90ZQ%3D%3D?line=0'>1</a>\u001b[0m \u001b[39mfrom\u001b[39;00m \u001b[39mhelpers\u001b[39;00m \u001b[39mimport\u001b[39;00m slice_and_move_batch_for_device\n\u001b[1;32m      <a href='vscode-notebook-cell://ssh-remote%2Ba100-4x/home/sidnbaskaran/hypernetwork-editor/notebooks/test.ipynb#X15sdnNjb2RlLXJlbW90ZQ%3D%3D?line=2'>3</a>\u001b[0m batch \u001b[39m=\u001b[39m \u001b[39mnext\u001b[39m(\u001b[39miter\u001b[39m(dl))\n\u001b[0;32m----> <a href='vscode-notebook-cell://ssh-remote%2Ba100-4x/home/sidnbaskaran/hypernetwork-editor/notebooks/test.ipynb#X15sdnNjb2RlLXJlbW90ZQ%3D%3D?line=3'>4</a>\u001b[0m out \u001b[39m=\u001b[39m editor_model(\u001b[39m*\u001b[39;49m\u001b[39m*\u001b[39;49mslice_and_move_batch_for_device(batch, \u001b[39m0\u001b[39;49m, \u001b[39m1\u001b[39;49m))\n",
      "File \u001b[0;32m~/miniconda3/envs/editor/lib/python3.10/site-packages/torch/nn/modules/module.py:1532\u001b[0m, in \u001b[0;36mModule._wrapped_call_impl\u001b[0;34m(self, *args, **kwargs)\u001b[0m\n\u001b[1;32m   1530\u001b[0m     \u001b[39mreturn\u001b[39;00m \u001b[39mself\u001b[39m\u001b[39m.\u001b[39m_compiled_call_impl(\u001b[39m*\u001b[39margs, \u001b[39m*\u001b[39m\u001b[39m*\u001b[39mkwargs)  \u001b[39m# type: ignore[misc]\u001b[39;00m\n\u001b[1;32m   1531\u001b[0m \u001b[39melse\u001b[39;00m:\n\u001b[0;32m-> 1532\u001b[0m     \u001b[39mreturn\u001b[39;00m \u001b[39mself\u001b[39;49m\u001b[39m.\u001b[39;49m_call_impl(\u001b[39m*\u001b[39;49margs, \u001b[39m*\u001b[39;49m\u001b[39m*\u001b[39;49mkwargs)\n",
      "File \u001b[0;32m~/miniconda3/envs/editor/lib/python3.10/site-packages/torch/nn/modules/module.py:1541\u001b[0m, in \u001b[0;36mModule._call_impl\u001b[0;34m(self, *args, **kwargs)\u001b[0m\n\u001b[1;32m   1536\u001b[0m \u001b[39m# If we don't have any hooks, we want to skip the rest of the logic in\u001b[39;00m\n\u001b[1;32m   1537\u001b[0m \u001b[39m# this function, and just call forward.\u001b[39;00m\n\u001b[1;32m   1538\u001b[0m \u001b[39mif\u001b[39;00m \u001b[39mnot\u001b[39;00m (\u001b[39mself\u001b[39m\u001b[39m.\u001b[39m_backward_hooks \u001b[39mor\u001b[39;00m \u001b[39mself\u001b[39m\u001b[39m.\u001b[39m_backward_pre_hooks \u001b[39mor\u001b[39;00m \u001b[39mself\u001b[39m\u001b[39m.\u001b[39m_forward_hooks \u001b[39mor\u001b[39;00m \u001b[39mself\u001b[39m\u001b[39m.\u001b[39m_forward_pre_hooks\n\u001b[1;32m   1539\u001b[0m         \u001b[39mor\u001b[39;00m _global_backward_pre_hooks \u001b[39mor\u001b[39;00m _global_backward_hooks\n\u001b[1;32m   1540\u001b[0m         \u001b[39mor\u001b[39;00m _global_forward_hooks \u001b[39mor\u001b[39;00m _global_forward_pre_hooks):\n\u001b[0;32m-> 1541\u001b[0m     \u001b[39mreturn\u001b[39;00m forward_call(\u001b[39m*\u001b[39;49margs, \u001b[39m*\u001b[39;49m\u001b[39m*\u001b[39;49mkwargs)\n\u001b[1;32m   1543\u001b[0m \u001b[39mtry\u001b[39;00m:\n\u001b[1;32m   1544\u001b[0m     result \u001b[39m=\u001b[39m \u001b[39mNone\u001b[39;00m\n",
      "File \u001b[0;32m~/hypernetwork-editor/notebooks/../models/gpt2.py:374\u001b[0m, in \u001b[0;36mGPT2Editor.forward\u001b[0;34m(self, editor_input_ids, editor_attention_mask, target_input_ids, target_attention_mask, target_hidden_states, output_target_hidden_states, output_edited_hidden_states, output_edit_vectors, output_editor_attention, stop_editing_index, batch_edit_vectors)\u001b[0m\n\u001b[1;32m    367\u001b[0m         temp_edit_vectors \u001b[39m=\u001b[39m editor_output[\u001b[39m0\u001b[39m]\n\u001b[1;32m    369\u001b[0m     \u001b[39m# Renormalize to the scale of the target hidden states\u001b[39;00m\n\u001b[1;32m    370\u001b[0m     \u001b[39m# and reshape to proper dimensions\u001b[39;00m\n\u001b[1;32m    371\u001b[0m     batch_edit_vectors \u001b[39m=\u001b[39m (\n\u001b[1;32m    372\u001b[0m         \u001b[39mself\u001b[39m\u001b[39m.\u001b[39mconfig\u001b[39m.\u001b[39medit_dampening_factor\n\u001b[1;32m    373\u001b[0m         \u001b[39m*\u001b[39m normalization_factors\n\u001b[0;32m--> 374\u001b[0m         \u001b[39m*\u001b[39m temp_edit_vectors\u001b[39m.\u001b[39;49mreshape(\n\u001b[1;32m    375\u001b[0m             temp_edit_vectors\u001b[39m.\u001b[39;49mshape[\u001b[39m0\u001b[39;49m], stop_editing_index, \u001b[39m13\u001b[39;49m, \u001b[39m768\u001b[39;49m\n\u001b[1;32m    376\u001b[0m         )\n\u001b[1;32m    377\u001b[0m     )\n\u001b[1;32m    379\u001b[0m \u001b[39m# If we are stopping editing at stop_editing_index,\u001b[39;00m\n\u001b[1;32m    380\u001b[0m \u001b[39m# this pads batch_edit_vectors with 0's to the right of the edited positions\u001b[39;00m\n\u001b[1;32m    381\u001b[0m \u001b[39mif\u001b[39;00m stop_editing_index \u001b[39mis\u001b[39;00m \u001b[39mnot\u001b[39;00m \u001b[39mNone\u001b[39;00m:\n",
      "\u001b[0;31mTypeError\u001b[0m: reshape(): argument 'shape' failed to unpack the object at pos 2 with error \"type must be tuple of ints,but got NoneType\""
     ]
    }
   ],
   "source": [
    "from helpers import slice_and_move_batch_for_device\n",
    "\n",
    "batch = next(iter(dl))\n",
    "out = editor_model(**slice_and_move_batch_for_device(batch, 0, 1))"
   ]
  },
  {
   "cell_type": "code",
   "execution_count": null,
   "metadata": {},
   "outputs": [
    {
     "data": {
      "text/plain": [
       "{'editor_input_ids': torch.Size([2, 50]),\n",
       " 'editor_attention_mask': torch.Size([2, 50]),\n",
       " 'target_input_ids': torch.Size([2, 512]),\n",
       " 'target_attention_mask': torch.Size([2, 512])}"
      ]
     },
     "execution_count": 20,
     "metadata": {},
     "output_type": "execute_result"
    }
   ],
   "source": [
    "{k: v.shape for k, v in batch.items()}"
   ]
  },
  {
   "cell_type": "code",
   "execution_count": null,
   "metadata": {},
   "outputs": [],
   "source": []
  }
 ],
 "metadata": {
  "kernelspec": {
   "display_name": "editor",
   "language": "python",
   "name": "python3"
  },
  "language_info": {
   "codemirror_mode": {
    "name": "ipython",
    "version": 3
   },
   "file_extension": ".py",
   "mimetype": "text/x-python",
   "name": "python",
   "nbconvert_exporter": "python",
   "pygments_lexer": "ipython3",
   "version": "3.10.12"
  }
 },
 "nbformat": 4,
 "nbformat_minor": 2
}

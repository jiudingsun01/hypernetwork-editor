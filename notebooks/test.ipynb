{
 "cells": [
  {
   "cell_type": "code",
   "execution_count": 1,
   "metadata": {},
   "outputs": [
    {
     "name": "stdout",
     "output_type": "stream",
     "text": [
      "env: CUDA_VISIBLE_DEVICES=2\n"
     ]
    }
   ],
   "source": [
    "import sys\n",
    "import torch\n",
    "\n",
    "\n",
    "sys.path.append(\"..\")\n",
    "\n",
    "from data import get_task, get_dataloader\n",
    "from helpers import ROOT_DIR\n",
    "from models.gpt2 import GPT2Editor\n",
    "\n",
    "%env CUDA_VISIBLE_DEVICES=2\n",
    "%load_ext autoreload\n",
    "%autoreload 2"
   ]
  },
  {
   "cell_type": "code",
   "execution_count": 2,
   "metadata": {},
   "outputs": [
    {
     "name": "stderr",
     "output_type": "stream",
     "text": [
      "DEBUG:data:Loading cached huggingface dataset from /home/sidnbaskaran/hypernetwork-editor/assets/data/cache/load_wikipedia_13ca3ba53028273144bd57b521cf2037 (rank=0)\n"
     ]
    },
    {
     "data": {
      "application/vnd.jupyter.widget-view+json": {
       "model_id": "19fcbc89793046c9b105a8a02119519e",
       "version_major": 2,
       "version_minor": 0
      },
      "text/plain": [
       "Loading dataset from disk:   0%|          | 0/25 [00:00<?, ?it/s]"
      ]
     },
     "metadata": {},
     "output_type": "display_data"
    }
   ],
   "source": [
    "from omegaconf import DictConfig\n",
    "\n",
    "cfg = DictConfig(\n",
    "    {\n",
    "        \"model\": {\"name_or_path\": \"gpt2\", \"max_length\": 512},\n",
    "        \"task\": {\n",
    "            \"name\": \"wikipedia\",\n",
    "            \"followup_char_limit\": 500,\n",
    "            \"editor_token_limit\": 50,\n",
    "        },\n",
    "        \"data\": {\n",
    "            \"test_split\": 0.1,\n",
    "            \"val_split\": 0.1,\n",
    "            \"n_examples\": 1000,\n",
    "            \"train_batch_size\": 2,\n",
    "            \"val_batch_size\": 2,\n",
    "        },\n",
    "        \"seed\": 42,\n",
    "    }\n",
    ")\n",
    "\n",
    "ds = get_task(cfg, \"wikipedia\", \"train\")\n",
    "\n",
    "dl = get_dataloader(ds, cfg, \"train\")"
   ]
  },
  {
   "cell_type": "code",
   "execution_count": 3,
   "metadata": {},
   "outputs": [],
   "source": [
    "from models.gpt2 import GPT2EditorConfig\n",
    "\n",
    "editor_model = GPT2Editor(GPT2EditorConfig())"
   ]
  },
  {
   "cell_type": "code",
   "execution_count": 4,
   "metadata": {},
   "outputs": [],
   "source": [
    "editor_model = editor_model.cuda()"
   ]
  },
  {
   "cell_type": "code",
   "execution_count": 5,
   "metadata": {},
   "outputs": [],
   "source": [
    "from helpers import slice_and_move_batch_for_device\n",
    "\n",
    "batch = next(iter(dl))\n",
    "out = editor_model(**slice_and_move_batch_for_device(batch, 0, 1))"
   ]
  },
  {
   "cell_type": "code",
   "execution_count": 6,
   "metadata": {},
   "outputs": [
    {
     "data": {
      "text/plain": [
       "{'editor_input_ids': torch.Size([2, 512]),\n",
       " 'editor_attention_mask': torch.Size([2, 512]),\n",
       " 'target_input_ids': torch.Size([2, 50]),\n",
       " 'target_attention_mask': torch.Size([2, 50])}"
      ]
     },
     "execution_count": 6,
     "metadata": {},
     "output_type": "execute_result"
    }
   ],
   "source": [
    "{k: v.shape for k, v in batch.items()}"
   ]
  },
  {
   "cell_type": "code",
   "execution_count": 7,
   "metadata": {},
   "outputs": [
    {
     "data": {
      "text/plain": [
       "50256"
      ]
     },
     "execution_count": 7,
     "metadata": {},
     "output_type": "execute_result"
    }
   ],
   "source": [
    "editor_model.target_model.config.eos_token_id"
   ]
  },
  {
   "cell_type": "code",
   "execution_count": 8,
   "metadata": {},
   "outputs": [],
   "source": [
    "from train import compute_ce_loss, compute_kl_loss\n",
    "\n",
    "with torch.no_grad():\n",
    "    # loss_ce = compute_ce_loss(editor_model, batch, 0, 1)\n",
    "    loss_kl = compute_kl_loss(editor_model, batch, 0, 1)"
   ]
  }
 ],
 "metadata": {
  "kernelspec": {
   "display_name": "editor",
   "language": "python",
   "name": "python3"
  },
  "language_info": {
   "codemirror_mode": {
    "name": "ipython",
    "version": 3
   },
   "file_extension": ".py",
   "mimetype": "text/x-python",
   "name": "python",
   "nbconvert_exporter": "python",
   "pygments_lexer": "ipython3",
   "version": "3.10.12"
  }
 },
 "nbformat": 4,
 "nbformat_minor": 2
}

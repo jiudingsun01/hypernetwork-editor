{
 "cells": [
  {
   "cell_type": "code",
   "execution_count": 1,
   "metadata": {},
   "outputs": [],
   "source": [
    "from vllm import LLM, SamplingParams\n",
    "import sys\n",
    "\n",
    "sys.path.append(\"..\")\n",
    "\n",
    "from helpers import get_conv_template"
   ]
  },
  {
   "cell_type": "code",
   "execution_count": 2,
   "metadata": {},
   "outputs": [
    {
     "name": "stdout",
     "output_type": "stream",
     "text": [
      "INFO 06-11 03:30:04 llm_engine.py:161] Initializing an LLM engine (v0.4.3) with config: model='meta-llama/Meta-Llama-3-8B-Instruct', speculative_config=None, tokenizer='meta-llama/Meta-Llama-3-8B-Instruct', skip_tokenizer_init=False, tokenizer_mode=auto, revision=None, rope_scaling=None, tokenizer_revision=None, trust_remote_code=False, dtype=torch.bfloat16, max_seq_len=8192, download_dir=None, load_format=LoadFormat.AUTO, tensor_parallel_size=1, disable_custom_all_reduce=False, quantization=None, enforce_eager=False, kv_cache_dtype=auto, quantization_param_path=None, device_config=cuda, decoding_config=DecodingConfig(guided_decoding_backend='outlines'), seed=0, served_model_name=meta-llama/Meta-Llama-3-8B-Instruct)\n"
     ]
    },
    {
     "name": "stderr",
     "output_type": "stream",
     "text": [
      "/home/sid/miniconda3/envs/editor/lib/python3.10/site-packages/huggingface_hub/file_download.py:1132: FutureWarning: `resume_download` is deprecated and will be removed in version 1.0.0. Downloads always resume when possible. If you want to force a new download, use `force_download=True`.\n",
      "  warnings.warn(\n",
      "Special tokens have been added in the vocabulary, make sure the associated word embeddings are fine-tuned or trained.\n"
     ]
    },
    {
     "name": "stdout",
     "output_type": "stream",
     "text": [
      "INFO 06-11 03:30:05 weight_utils.py:207] Using model weights format ['*.safetensors']\n",
      "INFO 06-11 03:30:07 model_runner.py:146] Loading model weights took 14.9595 GB\n",
      "INFO 06-11 03:30:08 gpu_executor.py:83] # GPU blocks: 27895, # CPU blocks: 2048\n",
      "INFO 06-11 03:30:10 model_runner.py:854] Capturing the model for CUDA graphs. This may lead to unexpected consequences if the model is not static. To run the model in eager mode, set 'enforce_eager=True' or use '--enforce-eager' in the CLI.\n",
      "INFO 06-11 03:30:10 model_runner.py:858] CUDA graphs can take additional 1~3 GiB memory per GPU. If you are running out of memory, consider decreasing `gpu_memory_utilization` or enforcing eager mode. You can also reduce the `max_num_seqs` as needed to decrease memory usage.\n",
      "INFO 06-11 03:30:13 model_runner.py:924] Graph capturing finished in 4 secs.\n"
     ]
    }
   ],
   "source": [
    "# Create an LLM.\n",
    "llm = LLM(model=\"meta-llama/Meta-Llama-3-8B-Instruct\")"
   ]
  },
  {
   "cell_type": "code",
   "execution_count": 3,
   "metadata": {},
   "outputs": [
    {
     "name": "stderr",
     "output_type": "stream",
     "text": [
      "Processed prompts: 100%|██████████| 1/1 [00:00<00:00,  2.92it/s, Generation Speed: 73.24 toks/s]\n"
     ]
    }
   ],
   "source": [
    "# Sample prompts.\n",
    "system_prompt = \"\"\"Consider the sentence below. Identify its main subject entity.\n",
    "Write a short sentence inventing a new piece of information about that entity, which ought to change the continuation.\n",
    "Do not add extra commentary.\n",
    "\n",
    "Example:\n",
    "Input:\n",
    "Sentence: Altered Carbon is a 2002 British cyberpunk novel by the English writer Richard K. Morgan.\n",
    "\n",
    "Output:\n",
    "<result>\n",
    "Entity: Altered Carbon\n",
    "New Context: Altered Carbon was written in 1994\n",
    "<result/>\n",
    "\"\"\"\n",
    "\n",
    "prompt = \"His Last Haul is a 1928 American silent crime drama film directed by Marshall Neilan and starring Tom Moore, Seena Owen and Alan Roscoe.\"\n",
    "# Create a sampling params object.\n",
    "sampling_params = SamplingParams(temperature=0.8, top_p=0.95, top_k=50, max_tokens=128)\n",
    "\n",
    "conv = get_conv_template(\"llama3\")\n",
    "conv.system_message = system_prompt\n",
    "conv.append_message(conv.roles[0], prompt)\n",
    "conv.append_message(conv.roles[1], \"\")\n",
    "\n",
    "out = llm.generate(conv.get_prompt(), sampling_params=sampling_params)"
   ]
  },
  {
   "cell_type": "code",
   "execution_count": 4,
   "metadata": {},
   "outputs": [
    {
     "name": "stdout",
     "output_type": "stream",
     "text": [
      "Entity: His Last Haul\n",
      "New Context: His Last Haul was a remake of a 1917 German film\n"
     ]
    }
   ],
   "source": [
    "print(out[0].outputs[0].text)"
   ]
  },
  {
   "cell_type": "markdown",
   "metadata": {},
   "source": [
    " - check if the entity is correct\n",
    " - subset original sentence based on entity\n",
    " - generate new continuation using gpt2 (we can use vllm again for this)\n",
    " - careful about tokenization\n"
   ]
  },
  {
   "cell_type": "code",
   "execution_count": 5,
   "metadata": {},
   "outputs": [],
   "source": [
    "# load gpt2 model from huggingface\n",
    "import transformers\n",
    "from transformers import GPT2LMHeadModel, GPT2Tokenizer"
   ]
  },
  {
   "cell_type": "code",
   "execution_count": 6,
   "metadata": {},
   "outputs": [
    {
     "name": "stderr",
     "output_type": "stream",
     "text": [
      "The attention mask and the pad token id were not set. As a consequence, you may observe unexpected behavior. Please pass your input's `attention_mask` to obtain reliable results.\n",
      "Setting `pad_token_id` to `eos_token_id`:50256 for open-end generation.\n",
      "Setting `pad_token_id` to `eos_token_id`:50256 for open-end generation.\n",
      "The attention mask and the pad token id were not set. As a consequence, you may observe unexpected behavior. Please pass your input's `attention_mask` to obtain reliable results.\n",
      "Setting `pad_token_id` to `eos_token_id`:50256 for open-end generation.\n",
      "The attention mask and the pad token id were not set. As a consequence, you may observe unexpected behavior. Please pass your input's `attention_mask` to obtain reliable results.\n",
      "Setting `pad_token_id` to `eos_token_id`:50256 for open-end generation.\n"
     ]
    }
   ],
   "source": [
    "import json\n",
    "\n",
    "\n",
    "def extract_fields(text):\n",
    "    lines = text.strip().split(\"\\n\")\n",
    "    entity = None\n",
    "    new_context = None\n",
    "\n",
    "    for line in lines:\n",
    "        line = line.strip()\n",
    "        if line.startswith(\"Entity:\"):\n",
    "            entity = line.split(\":\", 1)[1].strip()\n",
    "        elif line.startswith(\"New Context:\"):\n",
    "            new_context = line.split(\":\", 1)[1].strip()\n",
    "\n",
    "    if new_context and not new_context.endswith(\".\"):\n",
    "        new_context += \".\"\n",
    "\n",
    "    return entity, new_context\n",
    "\n",
    "\n",
    "def check_entity_in_sentence(entity, sentence):\n",
    "    return entity in sentence\n",
    "\n",
    "\n",
    "def split_sentence_by_entity(entity, sentence):\n",
    "    if entity in sentence:\n",
    "        before_entity, after_entity = sentence.split(entity, 1)\n",
    "        before_entity += entity\n",
    "        return before_entity, after_entity.strip()\n",
    "    else:\n",
    "        return None, None\n",
    "\n",
    "\n",
    "def continue_with_gpt2(text):\n",
    "    # Load pre-trained model and tokenizer\n",
    "    model = GPT2LMHeadModel.from_pretrained(\"gpt2\")\n",
    "    tokenizer = GPT2Tokenizer.from_pretrained(\"gpt2\")\n",
    "\n",
    "    # Tokenize input text\n",
    "    input_ids = tokenizer.encode(text, return_tensors=\"pt\")\n",
    "\n",
    "    # Generate continuation\n",
    "    outputs = model.generate(\n",
    "        input_ids, max_length=100, num_return_sequences=1, temperature=1\n",
    "    )\n",
    "\n",
    "    # Decode and return continuation\n",
    "    # There's a weird bug here, where gpt2 wants to continue the sentence with \"\\xa0\".\n",
    "    # We can strip these later it's no big deal, but...why? does it indicate some problem?\n",
    "    return tokenizer.decode(outputs[0], skip_special_tokens=True)\n",
    "\n",
    "\n",
    "# Example usage\n",
    "outputs = [\n",
    "    \"\"\"\n",
    "    Entity: His Last Haul \n",
    "    New Context: His Last Haul was a box office flop\n",
    "    \"\"\",\n",
    "    \"\"\"\n",
    "    Entity: The Shawshank Redemption\n",
    "    New Context: The Shawshank Redemption is a critically acclaimed film.\n",
    "    \"\"\",\n",
    "    \"\"\"\n",
    "    Entity: Python Programming\n",
    "    New Context: Python is a popular programming language\n",
    "    \"\"\",\n",
    "]\n",
    "\n",
    "sentences = [\n",
    "    \"I watched His Last Haul last night, and it was disappointing.\",\n",
    "    \"The Shawshank Redemption is my favorite movie of all time.\",\n",
    "    \"I'm learning Python Programming to improve my coding skills.\",\n",
    "]\n",
    "\n",
    "results = []\n",
    "\n",
    "for i, output in enumerate(outputs):\n",
    "    result = {}\n",
    "    entity, new_context = extract_fields(output)\n",
    "    result[\"entity\"] = entity\n",
    "    result[\"new_context\"] = new_context\n",
    "\n",
    "    sentence = sentences[i]\n",
    "    result[\"sentence\"] = sentence\n",
    "\n",
    "    if check_entity_in_sentence(entity, sentence):\n",
    "        result[\"entity_present\"] = True\n",
    "        before_entity, after_entity = split_sentence_by_entity(entity, sentence)\n",
    "        result[\"before_entity\"] = before_entity\n",
    "        result[\"after_entity\"] = after_entity\n",
    "        result[\"gpt2_continuation\"] = continue_with_gpt2(\n",
    "            new_context + \" \" + before_entity\n",
    "        )\n",
    "    else:\n",
    "        result[\"entity_present\"] = False\n",
    "        result[\"before_entity\"] = None\n",
    "        result[\"after_entity\"] = None\n",
    "        result[\"gpt2_continuation\"] = continue_with_gpt2(sentence)\n",
    "\n",
    "    results.append(result)\n",
    "\n",
    "# Write the results to a JSON file\n",
    "with open(\"results.json\", \"w\") as file:\n",
    "    json.dump(results, file, indent=4)"
   ]
  },
  {
   "cell_type": "code",
   "execution_count": 7,
   "metadata": {},
   "outputs": [
    {
     "data": {
      "text/plain": [
       "[{'entity': 'His Last Haul',\n",
       "  'new_context': 'His Last Haul was a box office flop.',\n",
       "  'sentence': 'I watched His Last Haul last night, and it was disappointing.',\n",
       "  'entity_present': True,\n",
       "  'before_entity': 'I watched His Last Haul',\n",
       "  'after_entity': 'last night, and it was disappointing.',\n",
       "  'gpt2_continuation': 'His Last Haul was a box office flop. I watched His Last Haul with my wife and kids. I watched it with my wife and kids. I watched it with my wife and kids. I watched it with my wife and kids. I watched it with my wife and kids. I watched it with my wife and kids. I watched it with my wife and kids. I watched it with my wife and kids. I watched it with my wife and kids. I watched it with my'},\n",
       " {'entity': 'The Shawshank Redemption',\n",
       "  'new_context': 'The Shawshank Redemption is a critically acclaimed film.',\n",
       "  'sentence': 'The Shawshank Redemption is my favorite movie of all time.',\n",
       "  'entity_present': True,\n",
       "  'before_entity': 'The Shawshank Redemption',\n",
       "  'after_entity': 'is my favorite movie of all time.',\n",
       "  'gpt2_continuation': 'The Shawshank Redemption is a critically acclaimed film. The Shawshank Redemption is a film that is a masterpiece of cinema. It is a masterpiece of cinema. It is a masterpiece of cinema. It is a masterpiece of cinema. It is a masterpiece of cinema. It is a masterpiece of cinema. It is a masterpiece of cinema. It is a masterpiece of cinema. It is a masterpiece of cinema. It is a masterpiece of cinema. It is a masterpiece of cinema. It is a masterpiece'},\n",
       " {'entity': 'Python Programming',\n",
       "  'new_context': 'Python is a popular programming language.',\n",
       "  'sentence': \"I'm learning Python Programming to improve my coding skills.\",\n",
       "  'entity_present': True,\n",
       "  'before_entity': \"I'm learning Python Programming\",\n",
       "  'after_entity': 'to improve my coding skills.',\n",
       "  'gpt2_continuation': \"Python is a popular programming language. I'm learning Python Programming and I'm learning Python Programming. I'm learning Python Programming. I'm learning Python Programming. I'm learning Python Programming. I'm learning Python Programming. I'm learning Python Programming. I'm learning Python Programming. I'm learning Python Programming. I'm learning Python Programming. I'm learning Python Programming. I'm learning Python Programming. I'm learning Python Programming. I'm learning Python Programming. I'm learning Python Programming. I'm learning\"}]"
      ]
     },
     "execution_count": 7,
     "metadata": {},
     "output_type": "execute_result"
    }
   ],
   "source": [
    "results"
   ]
  },
  {
   "cell_type": "code",
   "execution_count": 8,
   "metadata": {},
   "outputs": [
    {
     "data": {
      "text/plain": [
       "'I watched His Last Haullast night, and it was disappointing.'"
      ]
     },
     "execution_count": 8,
     "metadata": {},
     "output_type": "execute_result"
    }
   ],
   "source": [
    "results[0][\"before_entity\"] + results[0][\"after_entity\"]"
   ]
  },
  {
   "cell_type": "markdown",
   "metadata": {},
   "source": []
  }
 ],
 "metadata": {
  "kernelspec": {
   "display_name": "editor",
   "language": "python",
   "name": "python3"
  },
  "language_info": {
   "codemirror_mode": {
    "name": "ipython",
    "version": 3
   },
   "file_extension": ".py",
   "mimetype": "text/x-python",
   "name": "python",
   "nbconvert_exporter": "python",
   "pygments_lexer": "ipython3",
   "version": "3.10.12"
  }
 },
 "nbformat": 4,
 "nbformat_minor": 2
}

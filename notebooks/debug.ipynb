{
 "cells": [
  {
   "cell_type": "code",
   "execution_count": 1,
   "metadata": {},
   "outputs": [
    {
     "name": "stdout",
     "output_type": "stream",
     "text": [
      "env: CUDA_VISIBLE_DEVICES=2\n"
     ]
    }
   ],
   "source": [
    "import sys\n",
    "import torch\n",
    "\n",
    "\n",
    "sys.path.append(\"..\")\n",
    "\n",
    "from data import get_task, get_dataloader\n",
    "from helpers import ROOT_DIR\n",
    "from models.gpt2 import GPT2Editor\n",
    "\n",
    "torch.cuda.manual_seed(42)\n",
    "\n",
    "\n",
    "%env CUDA_VISIBLE_DEVICES=2\n",
    "%load_ext autoreload\n",
    "%autoreload 2"
   ]
  },
  {
   "cell_type": "code",
   "execution_count": 2,
   "metadata": {},
   "outputs": [],
   "source": [
    "def compute_position_ids(attn_mask: torch.LongTensor) -> torch.Tensor:\n",
    "    unmasked_len = attn_mask.sum(-1, keepdim=True)\n",
    "    position_ids = (\n",
    "        torch.arange(0, attn_mask.shape[-1], device=attn_mask.device)\n",
    "        .unsqueeze(0)\n",
    "        .repeat(unmasked_len.shape[0], 1)\n",
    "    )\n",
    "    position_ids -= unmasked_len\n",
    "    position_ids[position_ids < 0] = 0\n",
    "    return position_ids"
   ]
  },
  {
   "cell_type": "code",
   "execution_count": 3,
   "metadata": {},
   "outputs": [
    {
     "name": "stdout",
     "output_type": "stream",
     "text": [
      "tensor([[0, 0, 0, 0, 1, 1, 1, 1],\n",
      "        [0, 0, 0, 0, 1, 1, 1, 1]])\n",
      "tensor([[0, 0, 0, 0, 0, 1, 2, 3],\n",
      "        [0, 0, 0, 0, 0, 1, 2, 3]])\n"
     ]
    }
   ],
   "source": [
    "attn_mask = torch.cat((torch.zeros(2, 4), torch.ones(2, 4)), dim=-1).to(torch.long)\n",
    "\n",
    "position_ids = compute_position_ids(attn_mask)\n",
    "print(attn_mask)\n",
    "print(position_ids)"
   ]
  },
  {
   "cell_type": "code",
   "execution_count": 4,
   "metadata": {},
   "outputs": [
    {
     "data": {
      "application/vnd.jupyter.widget-view+json": {
       "model_id": "666ded8db17748c8955616e372bfff67",
       "version_major": 2,
       "version_minor": 0
      },
      "text/plain": [
       "Loading dataset from disk:   0%|          | 0/25 [00:00<?, ?it/s]"
      ]
     },
     "metadata": {},
     "output_type": "display_data"
    }
   ],
   "source": [
    "from omegaconf import DictConfig\n",
    "\n",
    "cfg = DictConfig(\n",
    "    {\n",
    "        \"model\": {\"name_or_path\": \"gpt2\", \"max_length\": 512},\n",
    "        \"task\": {\n",
    "            \"name\": \"wikipedia\",\n",
    "            \"followup_char_limit\": 500,\n",
    "            \"editor_token_limit\": 50,\n",
    "        },\n",
    "        \"train\": {\"train_batch_size\": 1, \"validation_batch_size\": 1},\n",
    "        \"data\": {\n",
    "            \"test_split\": 0.1,\n",
    "            \"val_split\": 0.1,\n",
    "            \"n_examples\": 1000,\n",
    "            \"train_batch_size\": 2,\n",
    "            \"val_batch_size\": 2,\n",
    "        },\n",
    "        \"seed\": 42,\n",
    "    }\n",
    ")\n",
    "\n",
    "ds = get_task(cfg, \"wikipedia\", \"train\")\n",
    "\n",
    "dl = get_dataloader(ds, cfg, \"train\")"
   ]
  },
  {
   "cell_type": "code",
   "execution_count": 5,
   "metadata": {},
   "outputs": [],
   "source": [
    "from transformers import AutoTokenizer\n",
    "\n",
    "batch = next(iter(dl))\n",
    "\n",
    "tok = AutoTokenizer.from_pretrained(cfg.model.name_or_path)"
   ]
  },
  {
   "cell_type": "code",
   "execution_count": 6,
   "metadata": {},
   "outputs": [],
   "source": [
    "from models.gpt2 import GPT2EditorConfig\n",
    "\n",
    "editor_model = GPT2Editor(GPT2EditorConfig()).cuda()"
   ]
  },
  {
   "cell_type": "code",
   "execution_count": 48,
   "metadata": {},
   "outputs": [
    {
     "name": "stdout",
     "output_type": "stream",
     "text": [
      "stacking dimension is 1\n"
     ]
    }
   ],
   "source": [
    "from helpers import slice_and_move_batch_for_device\n",
    "\n",
    "batch = next(iter(dl))\n",
    "out = editor_model(\n",
    "    **slice_and_move_batch_for_device(batch, 0, 1),\n",
    "    output_target_hidden_states=True,\n",
    "    output_edited_hidden_states=True,\n",
    "    output_edit_vectors=True,\n",
    "    output_editor_attention=True,\n",
    ")"
   ]
  },
  {
   "cell_type": "code",
   "execution_count": 49,
   "metadata": {},
   "outputs": [
    {
     "data": {
      "text/plain": [
       "{'editor_input_ids': torch.Size([1, 512]),\n",
       " 'editor_attention_mask': torch.Size([1, 512]),\n",
       " 'target_input_ids': torch.Size([1, 50]),\n",
       " 'target_attention_mask': torch.Size([1, 50])}"
      ]
     },
     "execution_count": 49,
     "metadata": {},
     "output_type": "execute_result"
    }
   ],
   "source": [
    "{k: v.shape for k, v in batch.items()}"
   ]
  },
  {
   "cell_type": "code",
   "execution_count": 50,
   "metadata": {},
   "outputs": [
    {
     "data": {
      "text/plain": [
       "50256"
      ]
     },
     "execution_count": 50,
     "metadata": {},
     "output_type": "execute_result"
    }
   ],
   "source": [
    "editor_model.target_model.config.eos_token_id"
   ]
  },
  {
   "cell_type": "code",
   "execution_count": 51,
   "metadata": {},
   "outputs": [],
   "source": [
    "from helpers import visualize_attn_heatmap"
   ]
  },
  {
   "cell_type": "code",
   "execution_count": 52,
   "metadata": {},
   "outputs": [
    {
     "data": {
      "text/plain": [
       "tensor([  338, 38412, 11289,   329,  1729,    12, 24046,   492])"
      ]
     },
     "execution_count": 52,
     "metadata": {},
     "output_type": "execute_result"
    }
   ],
   "source": [
    "batch[\"target_input_ids\"][0][-8:]"
   ]
  },
  {
   "cell_type": "code",
   "execution_count": 53,
   "metadata": {},
   "outputs": [
    {
     "name": "stdout",
     "output_type": "stream",
     "text": [
      "Editing target: ['Lewis', 'Ġ(', 'born', 'Ġ1976', ',', 'ĠLondon', ',', 'ĠEngland']\n",
      "Editor input: ['Na', 'omi', 'ĠK', '.']\n",
      "Editor preds: [' the', ' the', ' the', ' the', ' the', ' the', ' the', ' the']\n"
     ]
    },
    {
     "data": {
      "image/png": "[encoded data removed]",
      "text/plain": [
       "<Figure size 640x480 with 2 Axes>"
      ]
     },
     "metadata": {},
     "output_type": "display_data"
    }
   ],
   "source": [
    "visualize_attn_heatmap(\n",
    "    result=out,\n",
    "    batch=batch,\n",
    "    show_plot=True,\n",
    "    tokenizer=tok,\n",
    "    stopping_index=8,\n",
    ")"
   ]
  },
  {
   "cell_type": "code",
   "execution_count": null,
   "metadata": {},
   "outputs": [],
   "source": []
  }
 ],
 "metadata": {
  "kernelspec": {
   "display_name": "editor",
   "language": "python",
   "name": "python3"
  },
  "language_info": {
   "codemirror_mode": {
    "name": "ipython",
    "version": 3
   },
   "file_extension": ".py",
   "mimetype": "text/x-python",
   "name": "python",
   "nbconvert_exporter": "python",
   "pygments_lexer": "ipython3",
   "version": "3.10.12"
  }
 },
 "nbformat": 4,
 "nbformat_minor": 2
}
